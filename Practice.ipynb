{
 "cells": [
  {
   "cell_type": "code",
   "execution_count": 11,
   "metadata": {},
   "outputs": [],
   "source": [
    "# \"Hello, World!\" Exercise.\n",
    "\n",
    "def hello():\n",
    "    return 'Hello, World!'"
   ]
  },
  {
   "cell_type": "code",
   "execution_count": 12,
   "id": "ad7edb51",
   "metadata": {},
   "outputs": [],
   "source": [
    "# \"Guido's Gorgeous Lasagna\" Exercise\n",
    "\n",
    "# Cook a gorgeous lasagna from your favorite cookbook.\n",
    "# Define an EXPECTED_BAKE_TIME constant that returns how many minutes the lasagna should bake in the oven. \n",
    "# Note, that Lasagna should be in the oven for 40 minutes..\n"
   ]
  },
  {
   "cell_type": "code",
   "execution_count": 13,
   "id": "b1511366",
   "metadata": {},
   "outputs": [],
   "source": [
    "# TODO: define the 'EXPECTED_BAKE_TIME' constant\n",
    "# TODO: define the 'bake_time_remaining()' function\n",
    "# Implement the bake_time_remaining() function that takes the actual minutes \n",
    "# the lasagna has been in the oven as an argument and returns \n",
    "# how many minutes the lasagna still needs to bake based on the EXPECTED_BAKE_TIME.\n",
    "\n",
    "EXPECTED_BAKE_TIME = 40\n",
    "PREPARATION_TIME = 2\n",
    "def bake_time_remaining(time_elapsed):\n",
    "    \"\"\"Function bake_time_remaining() takes the actual minutes \n",
    "    the lasagna has been in the oven as an argument and returns \n",
    "    how many minutes the lasagna still needs to bake based on \n",
    "    the EXPECTED_BAKE_TIME.\"\"\"\n",
    "    return(EXPECTED_BAKE_TIME - time_elapsed)     "
   ]
  },
  {
   "cell_type": "code",
   "execution_count": 1,
   "id": "f5c89e57",
   "metadata": {},
   "outputs": [],
   "source": [
    "# TODO: define the 'preparation_time_in_minutes()' function\n",
    "#       and consider using 'PREPARATION_TIME' here\n",
    "# TODO: consider defining the 'PREPARATION_TIME' constant\n",
    "#       equal to the time it takes to prepare a single layer\n",
    "\n",
    "def preparation_time_in_minutes(number_of_layers):\n",
    "    \"\"\"Function preparation_time_in_minutes() returns how many minutes \n",
    "    to cook a number of layers. This function takes the number of layers \n",
    "    to add to the lasagna as an argument.\"\"\"\n",
    "    return(number_of_layers * PREPARATION_TIME)"
   ]
  },
  {
   "cell_type": "code",
   "execution_count": null,
   "id": "8fa3bcc2",
   "metadata": {},
   "outputs": [],
   "source": [
    "# TODO: define the 'elapsed_time_in_minutes()' function\n",
    "#Calculate the bake time remaining.\n",
    "#:param elapsed_bake_time: int baking time already elapsed.    \n",
    "#return: int remaining bake time derived from 'EXPECTED_BAKE_TIME'.    \n",
    "#    Function that takes the actual minutes the lasagna has been in the oven as\n",
    "#    an argument and returns how many minutes the lasagna still needs to bake\n",
    "#    based on the `EXPECTED_BAKE_TIME`.\n",
    "def elapsed_time_in_minutes(number_of_layers, elapsed_bake_time):\n",
    "    \"\"\"Function elapsed_time_in_minutes() returns elapsed cooking time.\n",
    "    This function takes two numbers representing the number of layers \n",
    "    & the time already spent baking and calculates the total elapsed \n",
    "    minutes spent cooking the lasagna.\"\"\"\n",
    "    preparation_time_in_minutes(number_of_layers)\n",
    "    return(preparation_time_in_minutes(number_of_layers) + elapsed_bake_time) \n"
   ]
  },
  {
   "cell_type": "code",
   "execution_count": null,
   "id": "9c20b593",
   "metadata": {},
   "outputs": [],
   "source": []
  }
 ],
 "metadata": {
  "kernelspec": {
   "display_name": "Python 3.9.7 ('base')",
   "language": "python",
   "name": "python3"
  },
  "language_info": {
   "codemirror_mode": {
    "name": "ipython",
    "version": 3
   },
   "file_extension": ".py",
   "mimetype": "text/x-python",
   "name": "python",
   "nbconvert_exporter": "python",
   "pygments_lexer": "ipython3",
   "version": "3.9.7 (default, Sep 16 2021, 16:59:28) [MSC v.1916 64 bit (AMD64)]"
  },
  "vscode": {
   "interpreter": {
    "hash": "292c9d20a54327f5cc4d930acc19d4baf70ce28f48da86ecaf9bd65ee76595b4"
   }
  }
 },
 "nbformat": 4,
 "nbformat_minor": 5
}
