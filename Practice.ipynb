{
 "cells": [
  {
   "cell_type": "code",
   "execution_count": 1,
   "metadata": {},
   "outputs": [],
   "source": [
    "# \"Hello, World!\" Exercise.\n",
    "\n",
    "def hello():\n",
    "    return 'Hello, World!'"
   ]
  },
  {
   "cell_type": "code",
   "execution_count": 2,
   "id": "ad7edb51",
   "metadata": {},
   "outputs": [],
   "source": [
    "# \"Guido's Gorgeous Lasagna\" Exercise\n",
    "\n",
    "# Cook a gorgeous lasagna from your favorite cookbook.\n",
    "# Define an EXPECTED_BAKE_TIME constant that returns how many minutes the lasagna should bake in the oven. \n",
    "# Note, that Lasagna should be in the oven for 40 minutes..\n"
   ]
  },
  {
   "cell_type": "code",
   "execution_count": 3,
   "id": "b1511366",
   "metadata": {},
   "outputs": [],
   "source": [
    "# TODO: define the 'EXPECTED_BAKE_TIME' constant\n",
    "# TODO: define the 'bake_time_remaining()' function\n",
    "# Implement the bake_time_remaining() function that takes the actual minutes \n",
    "# the lasagna has been in the oven as an argument and returns \n",
    "# how many minutes the lasagna still needs to bake based on the EXPECTED_BAKE_TIME.\n",
    "\n",
    "EXPECTED_BAKE_TIME = 40\n",
    "PREPARATION_TIME = 2\n",
    "def bake_time_remaining(time_elapsed):\n",
    "    \"\"\"Function bake_time_remaining() takes the actual minutes \n",
    "    the lasagna has been in the oven as an argument and returns \n",
    "    how many minutes the lasagna still needs to bake based on \n",
    "    the EXPECTED_BAKE_TIME.\"\"\"\n",
    "    return(EXPECTED_BAKE_TIME - time_elapsed)     "
   ]
  },
  {
   "cell_type": "code",
   "execution_count": 4,
   "id": "f5c89e57",
   "metadata": {},
   "outputs": [],
   "source": [
    "# TODO: define the 'preparation_time_in_minutes()' function\n",
    "#       and consider using 'PREPARATION_TIME' here\n",
    "# TODO: consider defining the 'PREPARATION_TIME' constant\n",
    "#       equal to the time it takes to prepare a single layer\n",
    "\n",
    "def preparation_time_in_minutes(number_of_layers):\n",
    "    \"\"\"Function preparation_time_in_minutes() returns how many minutes \n",
    "    to cook a number of layers. This function takes the number of layers \n",
    "    to add to the lasagna as an argument.\"\"\"\n",
    "    return(number_of_layers * PREPARATION_TIME)"
   ]
  },
  {
   "cell_type": "code",
   "execution_count": 5,
   "id": "8fa3bcc2",
   "metadata": {},
   "outputs": [],
   "source": [
    "# TODO: define the 'elapsed_time_in_minutes()' function\n",
    "#Calculate the bake time remaining.\n",
    "#:param elapsed_bake_time: int baking time already elapsed.    \n",
    "#return: int remaining bake time derived from 'EXPECTED_BAKE_TIME'.    \n",
    "#    Function that takes the actual minutes the lasagna has been in the oven as\n",
    "#    an argument and returns how many minutes the lasagna still needs to bake\n",
    "#    based on the `EXPECTED_BAKE_TIME`.\n",
    "def elapsed_time_in_minutes(number_of_layers, elapsed_bake_time):\n",
    "    \"\"\"Function elapsed_time_in_minutes() returns elapsed cooking time.\n",
    "    This function takes two numbers representing the number of layers \n",
    "    & the time already spent baking and calculates the total elapsed \n",
    "    minutes spent cooking the lasagna.\"\"\"\n",
    "    preparation_time_in_minutes(number_of_layers)\n",
    "    return(preparation_time_in_minutes(number_of_layers) + elapsed_bake_time) \n"
   ]
  },
  {
   "cell_type": "code",
   "execution_count": 1,
   "id": "7c833d69",
   "metadata": {},
   "outputs": [],
   "source": [
    "#Ghost Gobble Arcade Game\n",
    "#Implement four rules from Pac-Man, the classic 1980s-era arcade-game, all related to the game states. \n",
    "#Focus on combining the arguments to return the intended result"
   ]
  },
  {
   "cell_type": "code",
   "execution_count": 4,
   "id": "bcfea87c",
   "metadata": {},
   "outputs": [],
   "source": [
    "# Define the eat_ghost() function that takes two parameters (if Pac-Man has a power pellet active and if Pac-Man is touching a ghost) \n",
    "# and returns a Boolean value if Pac-Man is able to eat the ghost. \n",
    "# The function should return True only if Pac-Man has a power pellet active and is touching a ghost.\n",
    "def eat_ghost(power_pellet_active, touching_ghost):\n",
    "    \"\"\"\n",
    "    :param power_pellet_active: bool - does the player have an active power pellet?\n",
    "    :param touching_ghost:  bool - is the player touching a ghost?\n",
    "    :return: bool\n",
    "    \"\"\"\n",
    "    if power_pellet_active and touching_ghost:\n",
    "        return True\n",
    "    else:\n",
    "        return False"
   ]
  },
  {
   "cell_type": "code",
   "execution_count": 1,
   "id": "76da1c85",
   "metadata": {},
   "outputs": [],
   "source": [
    "#Define the score() function that takes two parameters (if Pac-Man is touching a power pellet and if Pac-Man is touching a dot) \n",
    "#and returns a Boolean value if Pac-Man scored. The function should return True if Pac-Man is touching a power pellet or a dot\n",
    "\n",
    "def score(touching_power_pellet, touching_dot):\n",
    "    \"\"\"\n",
    "    :param touching_power_pellet: bool - does the player have an active power pellet?\n",
    "    :param touching_dot:  bool - is the player touching a dot?\n",
    "    :return: bool\n",
    "    \"\"\"\n",
    "    if touching_power_pellet or touching_dot:\n",
    "        return True\n",
    "    else:\n",
    "        return False"
   ]
  },
  {
   "cell_type": "code",
   "execution_count": 3,
   "id": "4de947f3",
   "metadata": {},
   "outputs": [],
   "source": [
    "#Define the lose() function that takes two parameters (if Pac-Man has a power pellet active and if Pac-Man is touching a ghost) \n",
    "#and returns a Boolean value if Pac-Man loses. The function should return True if Pac-Man is touching a ghost and does not have a power pellet active.\n",
    "def lose(power_pellet_active, touching_ghost):\n",
    "    \"\"\"\n",
    "    :param power_pellet_active: bool - does the player have an active power pellet?\n",
    "    :param touching_ghost: bool - is the player touching a ghost?\n",
    "    :return: bool\n",
    "    \"\"\"\n",
    "    if not power_pellet_active and touching_ghost:\n",
    "        return True\n",
    "    else:\n",
    "        return False"
   ]
  },
  {
   "cell_type": "code",
   "execution_count": 4,
   "id": "0ed43520",
   "metadata": {},
   "outputs": [],
   "source": [
    "#Define the win() function that takes three parameters (if Pac-Man has eaten all of the dots, if Pac-Man has a power pellet active, and if Pac-Man is touching a ghost) \n",
    "#and returns a Boolean value if Pac-Man wins. The function should return True if Pac-Man has eaten all of the dots and has not lost based on the parameters defined in part 3.\n",
    "def win(has_eaten_all_dots, power_pellet_active, touching_ghost):\n",
    "    \"\"\"\n",
    "    :param has_eaten_all_dots: bool - has the player \"eaten\" all the dots?\n",
    "    :param power_pellet_active: bool - does the player have an active power pellet?\n",
    "    :param touching_ghost:  bool - is the player touching a ghost?\n",
    "    :return: bool\n",
    "    \"\"\"\n",
    "    if not has_eaten_all_dots:\n",
    "        return False\n",
    "    elif lose(power_pellet_active, touching_ghost):\n",
    "        return False\n",
    "    else:\n",
    "        return True   "
   ]
  }
 ],
 "metadata": {
  "kernelspec": {
   "display_name": "base",
   "language": "python",
   "name": "python3"
  },
  "language_info": {
   "codemirror_mode": {
    "name": "ipython",
    "version": 3
   },
   "file_extension": ".py",
   "mimetype": "text/x-python",
   "name": "python",
   "nbconvert_exporter": "python",
   "pygments_lexer": "ipython3",
   "version": "3.9.7"
  },
  "vscode": {
   "interpreter": {
    "hash": "292c9d20a54327f5cc4d930acc19d4baf70ce28f48da86ecaf9bd65ee76595b4"
   }
  }
 },
 "nbformat": 4,
 "nbformat_minor": 5
}
