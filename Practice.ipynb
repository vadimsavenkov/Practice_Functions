{
 "cells": [
  {
   "cell_type": "code",
   "execution_count": 6,
   "metadata": {},
   "outputs": [],
   "source": [
    "# Cook a gorgeous lasagna from your favorite cookbook."
   ]
  },
  {
   "cell_type": "code",
   "execution_count": 7,
   "id": "ad7edb51",
   "metadata": {},
   "outputs": [],
   "source": [
    "# Define an EXPECTED_BAKE_TIME constant that returns how many minutes the lasagna should bake in the oven. \n",
    "# Note, that Lasagna should be in the oven for 40 minutes..\n"
   ]
  },
  {
   "cell_type": "code",
   "execution_count": 8,
   "id": "b1511366",
   "metadata": {},
   "outputs": [],
   "source": [
    "# TODO: define the 'EXPECTED_BAKE_TIME' constant\n",
    "# TODO: define the 'bake_time_remaining()' function\n",
    "# Implement the bake_time_remaining() function that takes the actual minutes \n",
    "# the lasagna has been in the oven as an argument and returns \n",
    "# how many minutes the lasagna still needs to bake based on the EXPECTED_BAKE_TIME.\n",
    "\n",
    "EXPECTED_BAKE_TIME = 40\n",
    "PREPARATION_TIME = 2\n",
    "def bake_time_remaining(time_elapsed):\n",
    "    \"\"\"Function bake_time_remaining() takes the actual minutes \n",
    "    the lasagna has been in the oven as an argument and returns \n",
    "    how many minutes the lasagna still needs to bake based on \n",
    "    the EXPECTED_BAKE_TIME.\"\"\"\n",
    "    return(EXPECTED_BAKE_TIME - time_elapsed)     "
   ]
  }
 ],
 "metadata": {
  "kernelspec": {
   "display_name": "Python 3.9.7 ('base')",
   "language": "python",
   "name": "python3"
  },
  "language_info": {
   "codemirror_mode": {
    "name": "ipython",
    "version": 3
   },
   "file_extension": ".py",
   "mimetype": "text/x-python",
   "name": "python",
   "nbconvert_exporter": "python",
   "pygments_lexer": "ipython3",
   "version": "3.9.7"
  },
  "vscode": {
   "interpreter": {
    "hash": "292c9d20a54327f5cc4d930acc19d4baf70ce28f48da86ecaf9bd65ee76595b4"
   }
  }
 },
 "nbformat": 4,
 "nbformat_minor": 5
}
