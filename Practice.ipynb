{
 "cells": [
  {
   "cell_type": "code",
   "execution_count": 3,
   "metadata": {},
   "outputs": [
    {
     "data": {
      "text/plain": [
       "' Hello World Exercise '"
      ]
     },
     "execution_count": 3,
     "metadata": {},
     "output_type": "execute_result"
    }
   ],
   "source": [
    "\"\"\" Hello World Exercise \"\"\""
   ]
  },
  {
   "cell_type": "code",
   "execution_count": null,
   "id": "32581b22",
   "metadata": {},
   "outputs": [],
   "source": [
    "# \"Hello, World!\" Exercise.\n",
    "\n",
    "def hello():\n",
    "    return 'Hello, World!'"
   ]
  },
  {
   "cell_type": "code",
   "execution_count": 7,
   "id": "450ed6fc",
   "metadata": {},
   "outputs": [
    {
     "data": {
      "text/plain": [
       "' Guidos Gorgeous Lasagna Exercise '"
      ]
     },
     "execution_count": 7,
     "metadata": {},
     "output_type": "execute_result"
    }
   ],
   "source": [
    "\"\"\" Guidos Gorgeous Lasagna Exercise \"\"\""
   ]
  },
  {
   "cell_type": "code",
   "execution_count": 2,
   "id": "ad7edb51",
   "metadata": {},
   "outputs": [],
   "source": [
    "# \"Guido's Gorgeous Lasagna\" Exercise\n",
    "\n",
    "# Cook a gorgeous lasagna from your favorite cookbook.\n",
    "# Define an EXPECTED_BAKE_TIME constant that returns how many minutes the lasagna should bake in the oven. \n",
    "# Note, that Lasagna should be in the oven for 40 minutes..\n"
   ]
  },
  {
   "cell_type": "code",
   "execution_count": 3,
   "id": "b1511366",
   "metadata": {},
   "outputs": [],
   "source": [
    "# TODO: define the 'EXPECTED_BAKE_TIME' constant\n",
    "# TODO: define the 'bake_time_remaining()' function\n",
    "# Implement the bake_time_remaining() function that takes the actual minutes \n",
    "# the lasagna has been in the oven as an argument and returns \n",
    "# how many minutes the lasagna still needs to bake based on the EXPECTED_BAKE_TIME.\n",
    "\n",
    "EXPECTED_BAKE_TIME = 40\n",
    "PREPARATION_TIME = 2\n",
    "def bake_time_remaining(time_elapsed):\n",
    "    \"\"\"Function bake_time_remaining() takes the actual minutes \n",
    "    the lasagna has been in the oven as an argument and returns \n",
    "    how many minutes the lasagna still needs to bake based on \n",
    "    the EXPECTED_BAKE_TIME.\"\"\"\n",
    "    return(EXPECTED_BAKE_TIME - time_elapsed)     "
   ]
  },
  {
   "cell_type": "code",
   "execution_count": 4,
   "id": "f5c89e57",
   "metadata": {},
   "outputs": [],
   "source": [
    "# TODO: define the 'preparation_time_in_minutes()' function\n",
    "#       and consider using 'PREPARATION_TIME' here\n",
    "# TODO: consider defining the 'PREPARATION_TIME' constant\n",
    "#       equal to the time it takes to prepare a single layer\n",
    "\n",
    "def preparation_time_in_minutes(number_of_layers):\n",
    "    \"\"\"Function preparation_time_in_minutes() returns how many minutes \n",
    "    to cook a number of layers. This function takes the number of layers \n",
    "    to add to the lasagna as an argument.\"\"\"\n",
    "    return(number_of_layers * PREPARATION_TIME)"
   ]
  },
  {
   "cell_type": "code",
   "execution_count": 5,
   "id": "8fa3bcc2",
   "metadata": {},
   "outputs": [],
   "source": [
    "# TODO: define the 'elapsed_time_in_minutes()' function\n",
    "#Calculate the bake time remaining.\n",
    "#:param elapsed_bake_time: int baking time already elapsed.    \n",
    "#return: int remaining bake time derived from 'EXPECTED_BAKE_TIME'.    \n",
    "#    Function that takes the actual minutes the lasagna has been in the oven as\n",
    "#    an argument and returns how many minutes the lasagna still needs to bake\n",
    "#    based on the `EXPECTED_BAKE_TIME`.\n",
    "def elapsed_time_in_minutes(number_of_layers, elapsed_bake_time):\n",
    "    \"\"\"Function elapsed_time_in_minutes() returns elapsed cooking time.\n",
    "    This function takes two numbers representing the number of layers \n",
    "    & the time already spent baking and calculates the total elapsed \n",
    "    minutes spent cooking the lasagna.\"\"\"\n",
    "    preparation_time_in_minutes(number_of_layers)\n",
    "    return(preparation_time_in_minutes(number_of_layers) + elapsed_bake_time) \n"
   ]
  },
  {
   "cell_type": "code",
   "execution_count": 1,
   "id": "7c833d69",
   "metadata": {},
   "outputs": [],
   "source": [
    "#Ghost Gobble Arcade Game\n",
    "#Implement four rules from Pac-Man, the classic 1980s-era arcade-game, all related to the game states. \n",
    "#Focus on combining the arguments to return the intended result"
   ]
  },
  {
   "cell_type": "code",
   "execution_count": 4,
   "id": "bcfea87c",
   "metadata": {},
   "outputs": [],
   "source": [
    "# Define the eat_ghost() function that takes two parameters (if Pac-Man has a power pellet active and if Pac-Man is touching a ghost) \n",
    "# and returns a Boolean value if Pac-Man is able to eat the ghost. \n",
    "# The function should return True only if Pac-Man has a power pellet active and is touching a ghost.\n",
    "def eat_ghost(power_pellet_active, touching_ghost):\n",
    "    \"\"\"\n",
    "    :param power_pellet_active: bool - does the player have an active power pellet?\n",
    "    :param touching_ghost:  bool - is the player touching a ghost?\n",
    "    :return: bool\n",
    "    \"\"\"\n",
    "    if power_pellet_active and touching_ghost:\n",
    "        return True\n",
    "    else:\n",
    "        return False"
   ]
  },
  {
   "cell_type": "code",
   "execution_count": 1,
   "id": "76da1c85",
   "metadata": {},
   "outputs": [],
   "source": [
    "#Define the score() function that takes two parameters (if Pac-Man is touching a power pellet and if Pac-Man is touching a dot) \n",
    "#and returns a Boolean value if Pac-Man scored. The function should return True if Pac-Man is touching a power pellet or a dot\n",
    "\n",
    "def score(touching_power_pellet, touching_dot):\n",
    "    \"\"\"\n",
    "    :param touching_power_pellet: bool - does the player have an active power pellet?\n",
    "    :param touching_dot:  bool - is the player touching a dot?\n",
    "    :return: bool\n",
    "    \"\"\"\n",
    "    if touching_power_pellet or touching_dot:\n",
    "        return True\n",
    "    else:\n",
    "        return False"
   ]
  },
  {
   "cell_type": "code",
   "execution_count": 3,
   "id": "4de947f3",
   "metadata": {},
   "outputs": [],
   "source": [
    "#Define the lose() function that takes two parameters (if Pac-Man has a power pellet active and if Pac-Man is touching a ghost) \n",
    "#and returns a Boolean value if Pac-Man loses. The function should return True if Pac-Man is touching a ghost and does not have a power pellet active.\n",
    "def lose(power_pellet_active, touching_ghost):\n",
    "    \"\"\"\n",
    "    :param power_pellet_active: bool - does the player have an active power pellet?\n",
    "    :param touching_ghost: bool - is the player touching a ghost?\n",
    "    :return: bool\n",
    "    \"\"\"\n",
    "    if not power_pellet_active and touching_ghost:\n",
    "        return True\n",
    "    else:\n",
    "        return False"
   ]
  },
  {
   "cell_type": "code",
   "execution_count": 3,
   "id": "0ed43520",
   "metadata": {},
   "outputs": [],
   "source": [
    "#Define the win() function that takes three parameters (if Pac-Man has eaten all of the dots, if Pac-Man has a power pellet active, and if Pac-Man is touching a ghost) \n",
    "#and returns a Boolean value if Pac-Man wins. The function should return True if Pac-Man has eaten all of the dots and has not lost based on the parameters defined in part 3.\n",
    "def win(has_eaten_all_dots, power_pellet_active, touching_ghost):\n",
    "    \"\"\"\n",
    "    :param has_eaten_all_dots: bool - has the player \"eaten\" all the dots?\n",
    "    :param power_pellet_active: bool - does the player have an active power pellet?\n",
    "    :param touching_ghost:  bool - is the player touching a ghost?\n",
    "    :return: bool\n",
    "    \"\"\"\n",
    "    if not has_eaten_all_dots:\n",
    "        return False\n",
    "    elif lose(power_pellet_active, touching_ghost):\n",
    "        return False\n",
    "    else:\n",
    "        return True   "
   ]
  },
  {
   "cell_type": "code",
   "execution_count": 1,
   "id": "ae3494fe",
   "metadata": {},
   "outputs": [
    {
     "data": {
      "text/plain": [
       "' Currency calculator exercise '"
      ]
     },
     "execution_count": 1,
     "metadata": {},
     "output_type": "execute_result"
    }
   ],
   "source": [
    "\"\"\" Currency calculator exercise \"\"\""
   ]
  },
  {
   "cell_type": "code",
   "execution_count": 2,
   "id": "8586f741",
   "metadata": {},
   "outputs": [],
   "source": [
    "# Make a currency calculator \n",
    "#Create the exchange_money() function, taking 2 parameters:\n",
    "\n",
    "#budget : The amount of money you are planning to exchange.\n",
    "#exchange_rate : Unit value of the foreign currency.\n",
    "#This function should return the value of the exchanged currency.\n",
    "\n",
    "#Note: If your currency is USD and you want to exchange USD for EUR with an exchange rate of 1.20, then 1.20 USD == 1 EUR.\n",
    "def exchange_money(budget, exchange_rate):\n",
    "    \"\"\"\n",
    "    :param budget: float - amount of money you are planning to exchange.\n",
    "    :param exchange_rate: float - unit value of the foreign currency.\n",
    "    :return: float - exchanged value of the foreign currency you can receive.\n",
    "    \"\"\"\n",
    "    exchange_value = budget/exchange_rate\n",
    "    return exchange_value"
   ]
  },
  {
   "cell_type": "code",
   "execution_count": 1,
   "id": "57ada9d6",
   "metadata": {},
   "outputs": [],
   "source": [
    "#Create the get_change() function, taking 2 parameters:\n",
    "#budget : Amount of money before exchange.\n",
    "#exchanging_value : Amount of money that is taken from the budget to be exchanged.\n",
    "#This function should return the amount of money that is left from the budget.\n",
    "\n",
    "def get_change(budget, exchanging_value):\n",
    "    \"\"\"\n",
    "    :param budget: float - amount of money you own.\n",
    "    :param exchanging_value: int - amount of your money you want to exchange now.\n",
    "    :return: float - amount left of your starting currency after exchanging.\n",
    "    \"\"\"\n",
    "    amount_left = budget-exchanging_value\n",
    "    return amount_left\n"
   ]
  },
  {
   "cell_type": "code",
   "execution_count": 1,
   "id": "edbceda6",
   "metadata": {},
   "outputs": [],
   "source": [
    "#Create the get_value_of_bills() function, taking 2 parameters:\n",
    "#denomination : The value of a single bill.\n",
    "#number_of_bills : Amount of bills you received.\n",
    "#This function should return the total value of the given bills.\n",
    "def get_value_of_bills(denomination, number_of_bills):\n",
    "    \"\"\"\n",
    "    :param denomination: int - the value of a bill.\n",
    "    :param number_of_bills: int - amount of bills you received.\n",
    "    :return: int - total value of bills you now have.\n",
    "    \"\"\"\n",
    "    total_value = denomination*number_of_bills\n",
    "    return total_value"
   ]
  },
  {
   "cell_type": "code",
   "execution_count": 2,
   "id": "7b6caef3",
   "metadata": {},
   "outputs": [],
   "source": [
    "#Create Create the get_number_of_bills() function, taking budget and denomination.\n",
    "#This function should return the number of bills that you can get using the budget. \n",
    "# **Note: ** You can only receive whole bills, not fractions of bills, so remember to divide accordingly.\n",
    "def get_number_of_bills(budget, denomination):\n",
    "    \"\"\"\n",
    "    :param budget: float - the amount of money you are planning to exchange.\n",
    "    :param denomination: int - the value of a single bill.\n",
    "    :return: int - number of bills after exchanging all your money.\n",
    "    \"\"\"\n",
    "    number_of_bills = budget//denomination\n",
    "    return number_of_bills"
   ]
  },
  {
   "cell_type": "code",
   "execution_count": 1,
   "id": "c71df6ed",
   "metadata": {},
   "outputs": [],
   "source": [
    "#Create the exchangeable_value() function, taking budget, exchange_rate, spread, and denomination.\n",
    "#Parameter spread is the percentage taken as an exchange fee. If 1.00 EUR == 1.20 USD and the spread is 10, the actual exchange will be: 1.00 EUR == 1.32 USD.\n",
    "#This function should return the maximum value of the new currency after calculating the exchange rate plus the spread. \n",
    "#Remember that the currency denomination is a whole number, and cannot be sub-divided.\n",
    "#Note: Returned value should be int type.\n",
    "def exchangeable_value(budget, exchange_rate, spread, denomination):\n",
    "    \"\"\"\n",
    "    :param budget: float - the amount of your money you are planning to \n",
    "    exchange.\n",
    "    :param exchange_rate: float - the unit value of the foreign currency.\n",
    "    :param spread: int - percentage that is taken as an exchange fee.\n",
    "    :param denomination: int - the value of a single bill.\n",
    "    :return: int - maximum value you can get.\n",
    "    \"\"\"\n",
    "    actual_exchange_rate = exchange_rate * (1 + spread/100)\n",
    "    exchanged_value = budget/actual_exchange_rate\n",
    "    bills_exchanged = exchanged_value // denomination\n",
    "    end_value = bills_exchanged*denomination\n",
    "    return end_value\n",
    "    "
   ]
  },
  {
   "cell_type": "code",
   "execution_count": null,
   "id": "9a2172c3",
   "metadata": {},
   "outputs": [],
   "source": [
    "#Create the non_exchangeable_value() function, taking budget, exchange_rate, spread, and denomination.\n",
    "#This function should return the value that is not exchangeable due to the denomination of the bills.\n",
    "#Note: Returned value should be int type.\n",
    "def non_exchangeable_value(budget, exchange_rate, spread, denomination):\n",
    "    \"\"\"\n",
    "    :param budget: float - the amount of your money you are planning to exchange.\n",
    "    :param exchange_rate: float - the unit value of the foreign currency.\n",
    "    :param spread: int - percentage that is taken as an exchange fee.\n",
    "    :param denomination: int - the value of a single bill.\n",
    "    :return: int non-exchangeable value.\n",
    "    \"\"\"\n",
    "    actual_exchange_rate = exchange_rate * (1 + spread/100)\n",
    "    exchanged_value = budget/actual_exchange_rate\n",
    "    bills_exchanged = exchanged_value // denomination\n",
    "    end_value = bills_exchanged*denomination\n",
    "    non_exchanged_value = int(exchanged_value - end_value)\n",
    "    return non_exchanged_value"
   ]
  },
  {
   "cell_type": "code",
   "execution_count": 1,
   "id": "2fe6680b",
   "metadata": {},
   "outputs": [
    {
     "data": {
      "text/plain": [
       "' Meltdown Mitigation exercise '"
      ]
     },
     "execution_count": 1,
     "metadata": {},
     "output_type": "execute_result"
    }
   ],
   "source": [
    "\"\"\" Meltdown Mitigation exercise \"\"\"\n"
   ]
  },
  {
   "cell_type": "code",
   "execution_count": 2,
   "id": "cf54b487",
   "metadata": {},
   "outputs": [],
   "source": [
    "#The first thing a control system has to do is check if the reactor is balanced in criticality. \n",
    "#A reactor is said to be critical if it satisfies the following conditions:\n",
    "#The temperature is less than 800 K. The number of neutrons emitted per second is greater than 500.\n",
    "#The product of temperature and neutrons emitted per second is less than 500000.\n",
    "#Implement the function is_criticality_balanced() that takes temperature measured in kelvin and neutrons_emitted as parameters, \n",
    "#and returns True if the criticality conditions are met, False if not.\n",
    "\n",
    "def is_criticality_balanced(temperature, neutrons_emitted):\n",
    "    \"\"\"Verify criticality is balanced.\n",
    "    :param temperature: temperature value (integer or float)\n",
    "    :param neutrons_emitted: number of neutrons emitted per second (integer or float)\n",
    "    :return:  boolean True if conditions met, False if not\n",
    "    A reactor is said to be critical if it satisfies the following conditions:\n",
    "    - The temperature is less than 800.\n",
    "    - The number of neutrons emitted per second is greater than 500.\n",
    "    - The product of temperature and neutrons emitted per second is less than 500000.\n",
    "    \"\"\"\n",
    "    if temperature >= 800:\n",
    "        return False\n",
    "    elif neutrons_emitted <= 500:\n",
    "        return False\n",
    "    elif neutrons_emitted * temperature >= 500000:\n",
    "        return False    \n",
    "    else:\n",
    "        return True\n"
   ]
  }
 ],
 "metadata": {
  "kernelspec": {
   "display_name": "base",
   "language": "python",
   "name": "python3"
  },
  "language_info": {
   "codemirror_mode": {
    "name": "ipython",
    "version": 3
   },
   "file_extension": ".py",
   "mimetype": "text/x-python",
   "name": "python",
   "nbconvert_exporter": "python",
   "pygments_lexer": "ipython3",
   "version": "3.9.7"
  },
  "vscode": {
   "interpreter": {
    "hash": "292c9d20a54327f5cc4d930acc19d4baf70ce28f48da86ecaf9bd65ee76595b4"
   }
  }
 },
 "nbformat": 4,
 "nbformat_minor": 5
}
